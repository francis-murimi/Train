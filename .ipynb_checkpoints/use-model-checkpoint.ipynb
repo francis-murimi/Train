{
 "cells": [
  {
   "cell_type": "code",
   "execution_count": 45,
   "id": "67be72b8",
   "metadata": {},
   "outputs": [],
   "source": [
    "import math\n",
    "import random\n",
    "from collections import defaultdict\n",
    "from pprint import pprint"
   ]
  },
  {
   "cell_type": "code",
   "execution_count": 46,
   "id": "9d1defaf",
   "metadata": {},
   "outputs": [],
   "source": [
    "# Prevent future/deprecation warnings from showing in output\n",
    "import warnings\n",
    "warnings.filterwarnings(action='ignore')"
   ]
  },
  {
   "cell_type": "code",
   "execution_count": 47,
   "id": "407e0a01",
   "metadata": {},
   "outputs": [],
   "source": [
    "import seaborn as sns\n",
    "import matplotlib.pyplot as plt\n",
    "import numpy as np\n",
    "import pandas as pd\n",
    "import string\n",
    "import nltk"
   ]
  },
  {
   "cell_type": "code",
   "execution_count": 48,
   "id": "fd8a8f54",
   "metadata": {},
   "outputs": [],
   "source": [
    "from sklearn import *"
   ]
  },
  {
   "cell_type": "code",
   "execution_count": 49,
   "id": "c5169478",
   "metadata": {},
   "outputs": [],
   "source": [
    "sns.set_style(style='white')\n",
    "sns.set_context(context='notebook', font_scale=1.3, rc={'figure.figsize': (16,9)})"
   ]
  },
  {
   "cell_type": "code",
   "execution_count": 50,
   "id": "5f12fcec",
   "metadata": {},
   "outputs": [],
   "source": [
    "with open('sakaja.txt') as f:\n",
    "    contents = f.read()\n",
    "    f.close()"
   ]
  },
  {
   "cell_type": "code",
   "execution_count": 87,
   "id": "822d0dc1",
   "metadata": {},
   "outputs": [],
   "source": [
    "#define special characters list\n",
    "special_characters = ['!','#','$','%', '&','@','[',']',']','_','\\n']\n",
    "\n",
    "# lambda and join function\n",
    "contents = ''.join(filter(lambda i:i not in special_characters, contents))\n",
    "    "
   ]
  },
  {
   "cell_type": "code",
   "execution_count": 88,
   "id": "7facda53",
   "metadata": {},
   "outputs": [
    {
     "data": {
      "text/plain": [
       "'By\\xa0Ndubi Moturi“Mimi ni Johnson Sakaja, and together we are the Sakajas. Kuna kitu tunataka kutaja. \\xa0So keep plugged in like a charger. Because corona has come larger than NIC, CBA merger….”In a viral video released\\xa0during the Covid-19 pandemic, Nairobi Senator Johnson Sakaja excited social media with a creative rap video featuring his two sons.Although he appears to have gotten his lyrics right, there’s one thing that the 37-year-old \\xa0\"\\'super-senator\" has not quite mastered; watching his mouth.His recent struggle to fight against disqualification from the Nairobi gubernatorial race has cast a shadow of a man who always eats his own words.Not even his ‘management degree’ from Team University in Uganda would have helped him learn how to carefully manage his utterances in public.\\xa0A few months after releasing the rap hit, Sakaja was arrested for breaking the same rules that he was encouraging people not to break.But Sakaja is not the one who bows down easily, he vehemently denied the claims that he was arrested at\\xa0Ladies Lounge in Kilimani for violating the government directions on Covid19.“Never been arrested. Won’t be. Show me an OB Number,” he tweeted a few hours later.After pressure mounted on him, Mr Sakaja would step down as the chair of the Senate ad hoc committee on Covid-19 pandemic and apologise for misleading Kenyans.In his speech, he would acknowledge that he had indeed broken the same rules that he was expected to guard.“That is not my character. If it was just about been outside after nine, which would be one thing. I take responsibility for having flouted the Covid-19 rules. I was outside my home past 9pm. It is regrettable but all of us make mistakes,” he said at the time.He is currently at the center of controversy after it emerged that he did not complete his Actuarial Science degree from University of Nairobi as he claimed earlier. His inconsistencies in relation to his studies have exposed him to the court of public opinion.In his previous utterances, Mr Sakaja had romanticized how he was a top student right from his high school up until the University of Nairobi where he studied his Actuarial Science degree.“During my Form 2, I decided to work very hard. I would wake up at 4am to go and read in class. From that time henceforth my record remained exceptional. In fact if you go to Lenana School, nobody has beaten my Physics and English record,” he told Daniel Ndambuki aka Churchill in an interview last year.His life in Nairobi Chiromo campus was also rosy, according to him, thanks to his student leadership position and his rich political networks.“I had a salon, a Kinyozi and I employed a lot of people in campus. Sometimes I also used to wash people’s clothes. From by businesses, I would raise over 6,000 per day. By the time I was in my fourth year I bought a Mercedes Benz from Senator Moses Wetangula at the cost of 500,000 shillings. I also had an apartment in Yaya where I used to stay after moving out of Chiromo,” he said in the interview.In another interview with musician Nyashinski in September 2020, he also narrated his education journey saying he has never studied out of Kenya.“I have never gotten out of the country. I pursued my education in Kenya, from primary, high school to university,” he said.It therefore beats logic how he enrolled for a degree in management from Team University in Uganda and completed it in one year.After claims that he did not complete his Actuarial Science the University of Nairobi emerged, he again denied the allegations and termed them “political”.“You will now hear some people saying that I was not born,” he said.On whether he will survive the ongoing onslaught, it remains unclear.But one thing the senator has taught is sometimes eating your own words can be bitter.We come to you.We are always looking for ways to improve our stories. Let us know what you liked and what we can improve on.The woman’s husband, Mr Geofrey Otieno, had travelled out of Nairobi for work when the robbery happened.The remarks appear to have irked Senator Malala who told his supporters that Dr Khalwale showed he was confused.If you have an Ad-blocker please disable it and reload the page or try again later.Nation Media Group © 2022Welcome'"
      ]
     },
     "execution_count": 88,
     "metadata": {},
     "output_type": "execute_result"
    }
   ],
   "source": [
    "contents"
   ]
  },
  {
   "cell_type": "code",
   "execution_count": 89,
   "id": "575fea20",
   "metadata": {},
   "outputs": [],
   "source": [
    "from nltk.tokenize import word_tokenize\n"
   ]
  },
  {
   "cell_type": "code",
   "execution_count": 90,
   "id": "371587ab",
   "metadata": {},
   "outputs": [],
   "source": [
    "data = word_tokenize(contents.lower())"
   ]
  },
  {
   "cell_type": "code",
   "execution_count": 91,
   "id": "50a8570d",
   "metadata": {},
   "outputs": [],
   "source": [
    "from nltk.corpus import stopwords"
   ]
  },
  {
   "cell_type": "code",
   "execution_count": 92,
   "id": "8a8429e1",
   "metadata": {},
   "outputs": [],
   "source": [
    "english_stopwords = stopwords.words('english')\n",
    "t_data = [t for t in data if t not in english_stopwords]"
   ]
  },
  {
   "cell_type": "code",
   "execution_count": 93,
   "id": "8fac09dc",
   "metadata": {},
   "outputs": [],
   "source": [
    "from nltk import PorterStemmer"
   ]
  },
  {
   "cell_type": "code",
   "execution_count": 94,
   "id": "d96e00a8",
   "metadata": {},
   "outputs": [],
   "source": [
    "ps = PorterStemmer()\n",
    "token_data = [ps.stem(i) for i in t_data]"
   ]
  },
  {
   "cell_type": "code",
   "execution_count": 95,
   "id": "fc89f3fc",
   "metadata": {},
   "outputs": [],
   "source": [
    "token_text = ' '.join([str(item) for item in token_data])"
   ]
  },
  {
   "cell_type": "code",
   "execution_count": 96,
   "id": "90533e4c",
   "metadata": {},
   "outputs": [
    {
     "data": {
      "text/plain": [
       "\"ndubi moturi “ mimi ni johnson sakaja , togeth sakaja . kuna kitu tunataka kutaja . keep plug like charger . corona come larger nic , cba merger…. ” viral video releas covid-19 pandem , nairobi senat johnson sakaja excit social media creativ rap video featur two sons.although appear gotten lyric right , ’ one thing 37-year-old '' 'super-sen '' quit master ; watch mouth.hi recent struggl fight disqualif nairobi gubernatori race cast shadow man alway eat words.not even ‘ manag degre ’ team univers uganda would help learn care manag utter public . month releas rap hit , sakaja arrest break rule encourag peopl break.but sakaja one bow easili , vehement deni claim arrest ladi loung kilimani violat govern direct covid19. “ never arrest . ’ . show ob number , ” tweet hour later.aft pressur mount , mr sakaja would step chair senat ad hoc committe covid-19 pandem apologis mislead kenyans.in speech , would acknowledg inde broken rule expect guard. “ charact . outsid nine , would one thing . take respons flout covid-19 rule . outsid home past 9pm . regrett us make mistak , ” said time.h current center controversi emerg complet actuari scienc degre univers nairobi claim earlier . inconsist relat studi expos court public opinion.in previou utter , mr sakaja romantic top student right high school univers nairobi studi actuari scienc degree. “ form 2 , decid work hard . would wake 4am go read class . time henceforth record remain except . fact go lenana school , nobodi beaten physic english record , ” told daniel ndambuki aka churchil interview last year.hi life nairobi chiromo campu also rosi , accord , thank student leadership posit rich polit networks. “ salon , kinyozi employ lot peopl campu . sometim also use wash peopl ’ cloth . busi , would rais 6,000 per day . time fourth year bought merced benz senat mose wetangula cost 500,000 shill . also apart yaya use stay move chiromo , ” said interview.in anoth interview musician nyashinski septemb 2020 , also narrat educ journey say never studi kenya. “ never gotten countri . pursu educ kenya , primari , high school univers , ” said.it therefor beat logic enrol degre manag team univers uganda complet one year.aft claim complet actuari scienc univers nairobi emerg , deni alleg term “ polit ” . “ hear peopl say born , ” said.on whether surviv ongo onslaught , remain unclear.but one thing senat taught sometim eat word bitter.w come you.w alway look way improv stori . let us know like improv on.th woman ’ husband , mr geofrey otieno , travel nairobi work robberi happened.th remark appear irk senat malala told support dr khalwal show confused.if ad-block pleas disabl reload page tri later.n media group © 2022welcom\""
      ]
     },
     "execution_count": 96,
     "metadata": {},
     "output_type": "execute_result"
    }
   ],
   "source": [
    "token_text"
   ]
  },
  {
   "cell_type": "code",
   "execution_count": 97,
   "id": "420d8ab6",
   "metadata": {},
   "outputs": [],
   "source": [
    "from sklearn.feature_extraction.text import CountVectorizer"
   ]
  },
  {
   "cell_type": "code",
   "execution_count": null,
   "id": "f5e41fa3",
   "metadata": {},
   "outputs": [],
   "source": [
    "corpus = [\n",
    "    'This is the first document.',\n",
    "    'This document is the second document.',\n",
    "    'And this is the third one.',\n",
    "    'Is this the first document?',\n",
    "]\n",
    "vectorizer = CountVectorizer()\n",
    "X = vectorizer.fit_transform(corpus)\n",
    "vectorizer.get_feature_names_out()\n",
    "\n",
    "\n",
    "print(X.toarray())"
   ]
  },
  {
   "cell_type": "code",
   "execution_count": 98,
   "id": "5afcf8c8",
   "metadata": {},
   "outputs": [],
   "source": [
    "corpus = [token_text]\n",
    "vect = CountVectorizer(max_features=2000)\n",
    "X = vect.fit_transform(corpus)"
   ]
  },
  {
   "cell_type": "code",
   "execution_count": 99,
   "id": "e706d45f",
   "metadata": {},
   "outputs": [
    {
     "name": "stdout",
     "output_type": "stream",
     "text": [
      "[[2 3 1 1 1 1 1 1 1 1 3 2 2 1 1 4 1 2 1 1 1 2 3 1 1 1 1 1 1 1 1 2 1 1 2 2\n",
      "  1 1 1 1 1 1 1 2 1 3 1 1 2 1 3 1 1 1 1 1 1 3 1 1 1 1 1 1 3 1 2 1 1 1 1 1\n",
      "  1 2 2 2 1 1 1 1 1 1 1 1 1 1 1 1 1 1 1 1 2 2 1 1 1 1 1 1 1 1 1 2 2 1 1 1\n",
      "  1 1 1 2 3 1 1 3 1 1 2 1 1 2 1 1 1 1 1 1 1 1 1 1 1 2 1 1 1 1 1 2 1 1 1 1\n",
      "  1 1 1 1 3 1 2 1 1 1 1 1 1 1 1 1 1 1 3 1 7 1 1 1 1 3 1 1 1 1 1 1 1 1 1 2\n",
      "  5 1 1 1 1 2 1 2 1 4 1 1 1 1 2 1 1 1 1 2 1 1 1 1 2 1 1 2 1 1 2 1 2 1 1 1\n",
      "  2 1 1 1 3 4 7 1 2 3 3 1 5 1 1 1 2 1 2 1 1 1 1 1 1 2 3 1 1 1 1 1 2 1 2 1\n",
      "  1 3 3 1 2 1 1 1 1 1 1 2 1 6 2 2 2 1 2 1 1 1 1 1 1 1 1 1 1 1 2 6 1 4 1]]\n"
     ]
    }
   ],
   "source": [
    "print(X.toarray())"
   ]
  },
  {
   "cell_type": "code",
   "execution_count": null,
   "id": "652b628d",
   "metadata": {},
   "outputs": [],
   "source": []
  },
  {
   "cell_type": "code",
   "execution_count": null,
   "id": "c2a884c1",
   "metadata": {},
   "outputs": [],
   "source": []
  },
  {
   "cell_type": "code",
   "execution_count": null,
   "id": "39510dd1",
   "metadata": {},
   "outputs": [],
   "source": []
  },
  {
   "cell_type": "code",
   "execution_count": null,
   "id": "e5ba167b",
   "metadata": {},
   "outputs": [],
   "source": []
  },
  {
   "cell_type": "code",
   "execution_count": 96,
   "id": "ef539477",
   "metadata": {},
   "outputs": [
    {
     "data": {
      "text/plain": [
       "<465x287 sparse matrix of type '<class 'numpy.int64'>'\n",
       "\twith 412 stored elements in Compressed Sparse Row format>"
      ]
     },
     "execution_count": 96,
     "metadata": {},
     "output_type": "execute_result"
    }
   ],
   "source": [
    "data_vect"
   ]
  },
  {
   "cell_type": "code",
   "execution_count": 120,
   "id": "032692f3",
   "metadata": {},
   "outputs": [],
   "source": [
    "import pickle"
   ]
  },
  {
   "cell_type": "code",
   "execution_count": 121,
   "id": "9b3da61a",
   "metadata": {},
   "outputs": [],
   "source": [
    "f = open('my_classifier.pickle', 'rb')\n",
    "\n",
    "nb = pickle.load(f)\n",
    "\n",
    "f.close()"
   ]
  },
  {
   "cell_type": "code",
   "execution_count": 122,
   "id": "08ab7855",
   "metadata": {},
   "outputs": [
    {
     "data": {
      "text/plain": [
       "array([84., 84.])"
      ]
     },
     "execution_count": 122,
     "metadata": {},
     "output_type": "execute_result"
    }
   ],
   "source": [
    "nb.class_count_"
   ]
  },
  {
   "cell_type": "code",
   "execution_count": 123,
   "id": "bda3a922",
   "metadata": {},
   "outputs": [
    {
     "data": {
      "text/plain": [
       "array([[1., 2., 1., ..., 1., 0., 0.],\n",
       "       [0., 2., 0., ..., 0., 1., 1.]])"
      ]
     },
     "execution_count": 123,
     "metadata": {},
     "output_type": "execute_result"
    }
   ],
   "source": [
    "nb.feature_count_"
   ]
  },
  {
   "cell_type": "code",
   "execution_count": 124,
   "id": "be5823c6",
   "metadata": {},
   "outputs": [
    {
     "data": {
      "text/plain": [
       "array([-0.69314718, -0.69314718])"
      ]
     },
     "execution_count": 124,
     "metadata": {},
     "output_type": "execute_result"
    }
   ],
   "source": [
    "nb.class_log_prior_"
   ]
  },
  {
   "cell_type": "code",
   "execution_count": 125,
   "id": "de3255a0",
   "metadata": {},
   "outputs": [
    {
     "data": {
      "text/plain": [
       "array([0, 1], dtype=int64)"
      ]
     },
     "execution_count": 125,
     "metadata": {},
     "output_type": "execute_result"
    }
   ],
   "source": [
    "nb.classes_"
   ]
  },
  {
   "cell_type": "code",
   "execution_count": 126,
   "id": "b08cd1b7",
   "metadata": {},
   "outputs": [
    {
     "data": {
      "text/plain": [
       "7619"
      ]
     },
     "execution_count": 126,
     "metadata": {},
     "output_type": "execute_result"
    }
   ],
   "source": [
    "nb.n_features_in_"
   ]
  },
  {
   "cell_type": "code",
   "execution_count": 127,
   "id": "0101b4c7",
   "metadata": {},
   "outputs": [
    {
     "data": {
      "text/plain": [
       "{'alpha': 1.0, 'class_prior': None, 'fit_prior': True}"
      ]
     },
     "execution_count": 127,
     "metadata": {},
     "output_type": "execute_result"
    }
   ],
   "source": [
    "nb.get_params(deep=True)"
   ]
  },
  {
   "cell_type": "code",
   "execution_count": 130,
   "id": "1238ff56",
   "metadata": {},
   "outputs": [
    {
     "data": {
      "text/plain": [
       "array([-0.69314718, -0.69314718])"
      ]
     },
     "execution_count": 130,
     "metadata": {},
     "output_type": "execute_result"
    }
   ],
   "source": [
    "nb.class_log_prior_"
   ]
  },
  {
   "cell_type": "code",
   "execution_count": null,
   "id": "4fb010e1",
   "metadata": {},
   "outputs": [],
   "source": []
  }
 ],
 "metadata": {
  "kernelspec": {
   "display_name": "Python 3 (ipykernel)",
   "language": "python",
   "name": "python3"
  },
  "language_info": {
   "codemirror_mode": {
    "name": "ipython",
    "version": 3
   },
   "file_extension": ".py",
   "mimetype": "text/x-python",
   "name": "python",
   "nbconvert_exporter": "python",
   "pygments_lexer": "ipython3",
   "version": "3.8.5"
  }
 },
 "nbformat": 4,
 "nbformat_minor": 5
}
