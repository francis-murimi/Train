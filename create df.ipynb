{
 "cells": [
  {
   "cell_type": "code",
   "execution_count": 1,
   "id": "9ad1510c",
   "metadata": {},
   "outputs": [],
   "source": [
    "import math\n",
    "import random\n",
    "from collections import defaultdict\n",
    "from pprint import pprint"
   ]
  },
  {
   "cell_type": "code",
   "execution_count": 2,
   "id": "363b9dd4",
   "metadata": {},
   "outputs": [],
   "source": [
    "# Prevent future/deprecation warnings from showing in output\n",
    "import warnings\n",
    "warnings.filterwarnings(action='ignore')"
   ]
  },
  {
   "cell_type": "code",
   "execution_count": 3,
   "id": "5d6e0cb8",
   "metadata": {},
   "outputs": [],
   "source": [
    "import seaborn as sns\n",
    "import matplotlib.pyplot as plt\n",
    "import numpy as np\n",
    "import pandas as pd\n",
    "import string\n",
    "import nltk"
   ]
  },
  {
   "cell_type": "code",
   "execution_count": 4,
   "id": "7fdfd4bc",
   "metadata": {},
   "outputs": [],
   "source": [
    "from sklearn import *"
   ]
  },
  {
   "cell_type": "code",
   "execution_count": 5,
   "id": "001b2ad4",
   "metadata": {},
   "outputs": [],
   "source": [
    "sns.set_style(style='white')\n",
    "sns.set_context(context='notebook', font_scale=1.3, rc={'figure.figsize': (16,9)})"
   ]
  },
  {
   "cell_type": "code",
   "execution_count": 6,
   "id": "746fb4fe",
   "metadata": {},
   "outputs": [],
   "source": [
    "with open('sakaja.txt') as f:\n",
    "    contents = f.read()\n",
    "    f.close()"
   ]
  },
  {
   "cell_type": "code",
   "execution_count": 61,
   "id": "89a5a297",
   "metadata": {},
   "outputs": [],
   "source": [
    "with open('safe.txt') as f:\n",
    "    aa = f.read()\n",
    "    f.close()"
   ]
  },
  {
   "cell_type": "code",
   "execution_count": 62,
   "id": "2b32d087",
   "metadata": {},
   "outputs": [],
   "source": [
    "data = {'text': aa,\n",
    "       'title': None}\n",
    " \n",
    "# Create DataFrame\n",
    "df = pd.DataFrame(data, index= [0])"
   ]
  },
  {
   "cell_type": "code",
   "execution_count": 63,
   "id": "31cfc0b4",
   "metadata": {},
   "outputs": [
    {
     "data": {
      "text/html": [
       "<div>\n",
       "<style scoped>\n",
       "    .dataframe tbody tr th:only-of-type {\n",
       "        vertical-align: middle;\n",
       "    }\n",
       "\n",
       "    .dataframe tbody tr th {\n",
       "        vertical-align: top;\n",
       "    }\n",
       "\n",
       "    .dataframe thead th {\n",
       "        text-align: right;\n",
       "    }\n",
       "</style>\n",
       "<table border=\"1\" class=\"dataframe\">\n",
       "  <thead>\n",
       "    <tr style=\"text-align: right;\">\n",
       "      <th></th>\n",
       "      <th>text</th>\n",
       "      <th>title</th>\n",
       "    </tr>\n",
       "  </thead>\n",
       "  <tbody>\n",
       "    <tr>\n",
       "      <th>0</th>\n",
       "      <td>A veterinary officer vaccinates a chicken. Vac...</td>\n",
       "      <td>None</td>\n",
       "    </tr>\n",
       "  </tbody>\n",
       "</table>\n",
       "</div>"
      ],
      "text/plain": [
       "                                                text title\n",
       "0  A veterinary officer vaccinates a chicken. Vac...  None"
      ]
     },
     "execution_count": 63,
     "metadata": {},
     "output_type": "execute_result"
    }
   ],
   "source": [
    "df"
   ]
  },
  {
   "cell_type": "code",
   "execution_count": 64,
   "id": "963226ba",
   "metadata": {},
   "outputs": [],
   "source": [
    "from nltk.tokenize import word_tokenize\n"
   ]
  },
  {
   "cell_type": "code",
   "execution_count": 73,
   "id": "649df603",
   "metadata": {},
   "outputs": [],
   "source": [
    "data = word_tokenize(aa.lower())"
   ]
  },
  {
   "cell_type": "code",
   "execution_count": 74,
   "id": "15a381ab",
   "metadata": {},
   "outputs": [],
   "source": [
    "from nltk.corpus import stopwords"
   ]
  },
  {
   "cell_type": "code",
   "execution_count": 75,
   "id": "041b03ce",
   "metadata": {},
   "outputs": [],
   "source": [
    "english_stopwords = stopwords.words('english')\n",
    "t_data = [t for t in data if t not in english_stopwords]"
   ]
  },
  {
   "cell_type": "code",
   "execution_count": 76,
   "id": "38a242ef",
   "metadata": {},
   "outputs": [],
   "source": [
    "from nltk import PorterStemmer"
   ]
  },
  {
   "cell_type": "code",
   "execution_count": 77,
   "id": "bee887fe",
   "metadata": {},
   "outputs": [],
   "source": [
    "ps = PorterStemmer()\n",
    "token_data = [ps.stem(i) for i in t_data]"
   ]
  },
  {
   "cell_type": "code",
   "execution_count": 78,
   "id": "4c2c9033",
   "metadata": {},
   "outputs": [],
   "source": [
    "token_text = ' '.join([str(item) for item in token_data])"
   ]
  },
  {
   "cell_type": "code",
   "execution_count": 79,
   "id": "01a19909",
   "metadata": {},
   "outputs": [],
   "source": [
    "dat = {'text': token_text,\n",
    "      'title': None}\n",
    " \n",
    "# Create DataFrame\n",
    "tdf = pd.DataFrame(dat, index= [0])"
   ]
  },
  {
   "cell_type": "code",
   "execution_count": 80,
   "id": "13b8ac4a",
   "metadata": {},
   "outputs": [
    {
     "data": {
      "text/html": [
       "<div>\n",
       "<style scoped>\n",
       "    .dataframe tbody tr th:only-of-type {\n",
       "        vertical-align: middle;\n",
       "    }\n",
       "\n",
       "    .dataframe tbody tr th {\n",
       "        vertical-align: top;\n",
       "    }\n",
       "\n",
       "    .dataframe thead th {\n",
       "        text-align: right;\n",
       "    }\n",
       "</style>\n",
       "<table border=\"1\" class=\"dataframe\">\n",
       "  <thead>\n",
       "    <tr style=\"text-align: right;\">\n",
       "      <th></th>\n",
       "      <th>text</th>\n",
       "      <th>title</th>\n",
       "    </tr>\n",
       "  </thead>\n",
       "  <tbody>\n",
       "    <tr>\n",
       "      <th>0</th>\n",
       "      <td>veterinari offic vaccin chicken . vaccin help ...</td>\n",
       "      <td>None</td>\n",
       "    </tr>\n",
       "  </tbody>\n",
       "</table>\n",
       "</div>"
      ],
      "text/plain": [
       "                                                text title\n",
       "0  veterinari offic vaccin chicken . vaccin help ...  None"
      ]
     },
     "execution_count": 80,
     "metadata": {},
     "output_type": "execute_result"
    }
   ],
   "source": [
    "tdf"
   ]
  },
  {
   "cell_type": "code",
   "execution_count": 81,
   "id": "a16fdac5",
   "metadata": {},
   "outputs": [],
   "source": [
    "from sklearn.feature_extraction.text import CountVectorizer"
   ]
  },
  {
   "cell_type": "code",
   "execution_count": 82,
   "id": "e88190d5",
   "metadata": {},
   "outputs": [],
   "source": [
    "vect = CountVectorizer()\n",
    "X = vect.fit_transform(tdf['text'])\n"
   ]
  },
  {
   "cell_type": "code",
   "execution_count": 83,
   "id": "7cfac681",
   "metadata": {},
   "outputs": [
    {
     "data": {
      "text/plain": [
       "array([[ 2,  1,  1,  1,  1,  1,  1,  1,  2,  1,  1,  1,  1,  2,  2,  1,\n",
       "         1,  1,  1,  1,  1,  1,  2,  2,  1,  9,  3,  1,  1,  1,  1,  1,\n",
       "         4,  3,  2,  1,  1,  5,  2,  1,  1,  5,  7,  1,  3,  1,  1,  1,\n",
       "         1,  1,  1,  2,  1,  1,  1,  1,  2,  3,  1, 12,  1,  3,  1,  1,\n",
       "         1,  1,  1,  1,  1,  1,  1,  1,  7,  3,  2,  1,  1,  5,  1,  5,\n",
       "         1,  1,  1,  1,  1,  1,  1,  1,  3,  2,  1,  1,  4,  2,  2,  1,\n",
       "         2,  1,  7,  2,  1,  1,  1,  1,  1,  1,  2,  3,  1,  2,  1,  1,\n",
       "         1,  1,  1,  2,  1,  1,  2,  1,  2,  1,  2,  1, 14,  1,  9,  1,\n",
       "         1,  1,  1,  1,  1,  1,  4,  1,  1,  1,  7,  2,  1,  1,  1,  1,\n",
       "         3,  5,  1,  1,  1,  1,  3,  1,  1,  1,  2,  2,  3,  1,  1,  1,\n",
       "         1,  1,  1,  1,  1,  2,  1,  1,  2,  5,  6,  1,  3,  1,  1,  1,\n",
       "         1,  2,  1,  1,  1,  3,  3,  6,  1,  1,  1,  1,  1,  2,  1,  2,\n",
       "         2,  1,  2,  3,  1,  1,  1,  1,  3,  1,  1,  4,  1,  1,  2,  4,\n",
       "         2,  3,  2,  2,  1,  2,  2,  2,  3,  1,  1,  1,  6,  1,  1,  2,\n",
       "         2,  2,  1,  1,  2,  1,  1,  2,  2,  1,  1,  1,  2,  1,  1,  1,\n",
       "         1,  1,  2,  2,  1,  2,  1,  2,  1,  1,  1,  1,  1,  3,  2,  2,\n",
       "         1,  1,  5,  3,  1,  1,  1,  1,  2,  1,  1,  2,  1,  1,  3,  2,\n",
       "         1,  4,  5,  1,  1,  1,  1,  1,  1,  1,  2,  1,  1,  4,  1,  1,\n",
       "         3,  1,  2,  1,  7,  1,  4,  1,  1,  1,  1,  2,  1,  1,  1,  1,\n",
       "        10,  3,  1,  1,  1,  1,  2,  2,  1,  1,  2,  1,  1,  1,  7,  1,\n",
       "         1,  1,  1,  1,  1,  2,  2,  1,  1,  1,  2,  1,  1, 11,  3,  1,\n",
       "         2,  1,  1,  1,  2,  4, 10,  3,  2,  3,  1,  1,  1,  1,  1,  1,\n",
       "         2,  2,  2,  1,  1,  1,  1,  2,  2,  1,  2,  2,  1,  1,  1,  1,\n",
       "         1,  1,  1,  2,  2,  2,  1,  1,  1,  1,  1,  2,  1,  2,  1,  1,\n",
       "         1,  1,  4,  1,  1,  2,  1,  1,  1,  1,  1,  1,  2,  1,  1,  1,\n",
       "         1,  2,  1,  1,  2,  1,  1,  3,  1,  1,  1,  1,  1,  2,  2,  3,\n",
       "         1,  1,  1,  2,  1,  1,  2,  1,  2,  1,  1,  1,  1,  1,  1,  1,\n",
       "         4,  3,  1,  2,  1,  1,  1,  1,  1,  1,  1,  1,  3,  1,  1,  5,\n",
       "         1,  1,  3,  1,  1,  1,  2,  1,  1,  1, 19,  1, 35,  2,  1,  1,\n",
       "         1, 18,  1,  1,  1,  2,  3,  1,  1,  1,  1,  1,  1,  3,  1,  1,\n",
       "         1,  2,  1]], dtype=int64)"
      ]
     },
     "execution_count": 83,
     "metadata": {},
     "output_type": "execute_result"
    }
   ],
   "source": [
    "X.toarray()"
   ]
  },
  {
   "cell_type": "code",
   "execution_count": 28,
   "id": "d64c8a87",
   "metadata": {},
   "outputs": [],
   "source": [
    "import pickle"
   ]
  },
  {
   "cell_type": "code",
   "execution_count": 29,
   "id": "42939440",
   "metadata": {},
   "outputs": [],
   "source": [
    "f = open('my_classifier.pickle', 'rb')\n",
    "\n",
    "nb = pickle.load(f)\n",
    "\n",
    "f.close()"
   ]
  },
  {
   "cell_type": "code",
   "execution_count": 31,
   "id": "3188f06e",
   "metadata": {},
   "outputs": [],
   "source": [
    "from sklearn.model_selection import train_test_split"
   ]
  },
  {
   "cell_type": "code",
   "execution_count": 84,
   "id": "4f7f1f0c",
   "metadata": {},
   "outputs": [
    {
     "data": {
      "text/html": [
       "<div>\n",
       "<style scoped>\n",
       "    .dataframe tbody tr th:only-of-type {\n",
       "        vertical-align: middle;\n",
       "    }\n",
       "\n",
       "    .dataframe tbody tr th {\n",
       "        vertical-align: top;\n",
       "    }\n",
       "\n",
       "    .dataframe thead th {\n",
       "        text-align: right;\n",
       "    }\n",
       "</style>\n",
       "<table border=\"1\" class=\"dataframe\">\n",
       "  <thead>\n",
       "    <tr style=\"text-align: right;\">\n",
       "      <th></th>\n",
       "      <th>text</th>\n",
       "      <th>title</th>\n",
       "    </tr>\n",
       "  </thead>\n",
       "  <tbody>\n",
       "    <tr>\n",
       "      <th>0</th>\n",
       "      <td>veterinari offic vaccin chicken . vaccin help ...</td>\n",
       "      <td>None</td>\n",
       "    </tr>\n",
       "  </tbody>\n",
       "</table>\n",
       "</div>"
      ],
      "text/plain": [
       "                                                text title\n",
       "0  veterinari offic vaccin chicken . vaccin help ...  None"
      ]
     },
     "execution_count": 84,
     "metadata": {},
     "output_type": "execute_result"
    }
   ],
   "source": [
    "tdf"
   ]
  },
  {
   "cell_type": "code",
   "execution_count": null,
   "id": "67c0076a",
   "metadata": {},
   "outputs": [],
   "source": [
    "X = tdf.text\n",
    "y = tdf.title\n",
    "X_train, X_test, y_train, y_test = train_test_split(X, y, train_size=None,test_size=0.01)"
   ]
  },
  {
   "cell_type": "code",
   "execution_count": 85,
   "id": "a0d473b8",
   "metadata": {},
   "outputs": [],
   "source": [
    "newdf = pd.DataFrame(np.repeat(tdf.values, 3, axis=0))\n",
    "newdf.columns = tdf.columns"
   ]
  },
  {
   "cell_type": "code",
   "execution_count": 86,
   "id": "def13af7",
   "metadata": {},
   "outputs": [],
   "source": [
    "#newdf\n",
    "newdf.to_csv('testing.csv')"
   ]
  },
  {
   "cell_type": "code",
   "execution_count": 54,
   "id": "04804d5c",
   "metadata": {},
   "outputs": [],
   "source": [
    "X = newdf.text\n",
    "y = newdf.title\n",
    "X_train, X_test, y_train, y_test = train_test_split(X, y, train_size=None,test_size=0.2)"
   ]
  },
  {
   "cell_type": "code",
   "execution_count": 57,
   "id": "81e65bfc",
   "metadata": {},
   "outputs": [],
   "source": [
    "vectorizer = CountVectorizer(binary=True)\n",
    "\n",
    "X_test_vect = vectorizer.fit_transform(X_test)"
   ]
  },
  {
   "cell_type": "code",
   "execution_count": 59,
   "id": "0c49df37",
   "metadata": {},
   "outputs": [
    {
     "ename": "ValueError",
     "evalue": "X has 1 features, but MultinomialNB is expecting 7619 features as input.",
     "output_type": "error",
     "traceback": [
      "\u001b[1;31m---------------------------------------------------------------------------\u001b[0m",
      "\u001b[1;31mValueError\u001b[0m                                Traceback (most recent call last)",
      "\u001b[1;32m~\\AppData\\Local\\Temp/ipykernel_7772/2582037410.py\u001b[0m in \u001b[0;36m<module>\u001b[1;34m\u001b[0m\n\u001b[1;32m----> 1\u001b[1;33m \u001b[0mnb\u001b[0m\u001b[1;33m.\u001b[0m\u001b[0mpredict\u001b[0m\u001b[1;33m(\u001b[0m\u001b[0mX_test_vect\u001b[0m\u001b[1;33m.\u001b[0m\u001b[0mreshape\u001b[0m\u001b[1;33m(\u001b[0m\u001b[1;33m-\u001b[0m\u001b[1;36m1\u001b[0m\u001b[1;33m,\u001b[0m\u001b[1;36m1\u001b[0m\u001b[1;33m)\u001b[0m\u001b[1;33m)\u001b[0m\u001b[1;33m\u001b[0m\u001b[1;33m\u001b[0m\u001b[0m\n\u001b[0m",
      "\u001b[1;32mc:\\users\\murimi\\appdata\\local\\programs\\python\\python38-32\\lib\\site-packages\\sklearn\\naive_bayes.py\u001b[0m in \u001b[0;36mpredict\u001b[1;34m(self, X)\u001b[0m\n\u001b[0;32m     78\u001b[0m         \"\"\"\n\u001b[0;32m     79\u001b[0m         \u001b[0mcheck_is_fitted\u001b[0m\u001b[1;33m(\u001b[0m\u001b[0mself\u001b[0m\u001b[1;33m)\u001b[0m\u001b[1;33m\u001b[0m\u001b[1;33m\u001b[0m\u001b[0m\n\u001b[1;32m---> 80\u001b[1;33m         \u001b[0mX\u001b[0m \u001b[1;33m=\u001b[0m \u001b[0mself\u001b[0m\u001b[1;33m.\u001b[0m\u001b[0m_check_X\u001b[0m\u001b[1;33m(\u001b[0m\u001b[0mX\u001b[0m\u001b[1;33m)\u001b[0m\u001b[1;33m\u001b[0m\u001b[1;33m\u001b[0m\u001b[0m\n\u001b[0m\u001b[0;32m     81\u001b[0m         \u001b[0mjll\u001b[0m \u001b[1;33m=\u001b[0m \u001b[0mself\u001b[0m\u001b[1;33m.\u001b[0m\u001b[0m_joint_log_likelihood\u001b[0m\u001b[1;33m(\u001b[0m\u001b[0mX\u001b[0m\u001b[1;33m)\u001b[0m\u001b[1;33m\u001b[0m\u001b[1;33m\u001b[0m\u001b[0m\n\u001b[0;32m     82\u001b[0m         \u001b[1;32mreturn\u001b[0m \u001b[0mself\u001b[0m\u001b[1;33m.\u001b[0m\u001b[0mclasses_\u001b[0m\u001b[1;33m[\u001b[0m\u001b[0mnp\u001b[0m\u001b[1;33m.\u001b[0m\u001b[0margmax\u001b[0m\u001b[1;33m(\u001b[0m\u001b[0mjll\u001b[0m\u001b[1;33m,\u001b[0m \u001b[0maxis\u001b[0m\u001b[1;33m=\u001b[0m\u001b[1;36m1\u001b[0m\u001b[1;33m)\u001b[0m\u001b[1;33m]\u001b[0m\u001b[1;33m\u001b[0m\u001b[1;33m\u001b[0m\u001b[0m\n",
      "\u001b[1;32mc:\\users\\murimi\\appdata\\local\\programs\\python\\python38-32\\lib\\site-packages\\sklearn\\naive_bayes.py\u001b[0m in \u001b[0;36m_check_X\u001b[1;34m(self, X)\u001b[0m\n\u001b[0;32m    547\u001b[0m     \u001b[1;32mdef\u001b[0m \u001b[0m_check_X\u001b[0m\u001b[1;33m(\u001b[0m\u001b[0mself\u001b[0m\u001b[1;33m,\u001b[0m \u001b[0mX\u001b[0m\u001b[1;33m)\u001b[0m\u001b[1;33m:\u001b[0m\u001b[1;33m\u001b[0m\u001b[1;33m\u001b[0m\u001b[0m\n\u001b[0;32m    548\u001b[0m         \u001b[1;34m\"\"\"Validate X, used only in predict* methods.\"\"\"\u001b[0m\u001b[1;33m\u001b[0m\u001b[1;33m\u001b[0m\u001b[0m\n\u001b[1;32m--> 549\u001b[1;33m         \u001b[1;32mreturn\u001b[0m \u001b[0mself\u001b[0m\u001b[1;33m.\u001b[0m\u001b[0m_validate_data\u001b[0m\u001b[1;33m(\u001b[0m\u001b[0mX\u001b[0m\u001b[1;33m,\u001b[0m \u001b[0maccept_sparse\u001b[0m\u001b[1;33m=\u001b[0m\u001b[1;34m\"csr\"\u001b[0m\u001b[1;33m,\u001b[0m \u001b[0mreset\u001b[0m\u001b[1;33m=\u001b[0m\u001b[1;32mFalse\u001b[0m\u001b[1;33m)\u001b[0m\u001b[1;33m\u001b[0m\u001b[1;33m\u001b[0m\u001b[0m\n\u001b[0m\u001b[0;32m    550\u001b[0m \u001b[1;33m\u001b[0m\u001b[0m\n\u001b[0;32m    551\u001b[0m     \u001b[1;32mdef\u001b[0m \u001b[0m_check_X_y\u001b[0m\u001b[1;33m(\u001b[0m\u001b[0mself\u001b[0m\u001b[1;33m,\u001b[0m \u001b[0mX\u001b[0m\u001b[1;33m,\u001b[0m \u001b[0my\u001b[0m\u001b[1;33m,\u001b[0m \u001b[0mreset\u001b[0m\u001b[1;33m=\u001b[0m\u001b[1;32mTrue\u001b[0m\u001b[1;33m)\u001b[0m\u001b[1;33m:\u001b[0m\u001b[1;33m\u001b[0m\u001b[1;33m\u001b[0m\u001b[0m\n",
      "\u001b[1;32mc:\\users\\murimi\\appdata\\local\\programs\\python\\python38-32\\lib\\site-packages\\sklearn\\base.py\u001b[0m in \u001b[0;36m_validate_data\u001b[1;34m(self, X, y, reset, validate_separately, **check_params)\u001b[0m\n\u001b[0;32m    598\u001b[0m \u001b[1;33m\u001b[0m\u001b[0m\n\u001b[0;32m    599\u001b[0m         \u001b[1;32mif\u001b[0m \u001b[1;32mnot\u001b[0m \u001b[0mno_val_X\u001b[0m \u001b[1;32mand\u001b[0m \u001b[0mcheck_params\u001b[0m\u001b[1;33m.\u001b[0m\u001b[0mget\u001b[0m\u001b[1;33m(\u001b[0m\u001b[1;34m\"ensure_2d\"\u001b[0m\u001b[1;33m,\u001b[0m \u001b[1;32mTrue\u001b[0m\u001b[1;33m)\u001b[0m\u001b[1;33m:\u001b[0m\u001b[1;33m\u001b[0m\u001b[1;33m\u001b[0m\u001b[0m\n\u001b[1;32m--> 600\u001b[1;33m             \u001b[0mself\u001b[0m\u001b[1;33m.\u001b[0m\u001b[0m_check_n_features\u001b[0m\u001b[1;33m(\u001b[0m\u001b[0mX\u001b[0m\u001b[1;33m,\u001b[0m \u001b[0mreset\u001b[0m\u001b[1;33m=\u001b[0m\u001b[0mreset\u001b[0m\u001b[1;33m)\u001b[0m\u001b[1;33m\u001b[0m\u001b[1;33m\u001b[0m\u001b[0m\n\u001b[0m\u001b[0;32m    601\u001b[0m \u001b[1;33m\u001b[0m\u001b[0m\n\u001b[0;32m    602\u001b[0m         \u001b[1;32mreturn\u001b[0m \u001b[0mout\u001b[0m\u001b[1;33m\u001b[0m\u001b[1;33m\u001b[0m\u001b[0m\n",
      "\u001b[1;32mc:\\users\\murimi\\appdata\\local\\programs\\python\\python38-32\\lib\\site-packages\\sklearn\\base.py\u001b[0m in \u001b[0;36m_check_n_features\u001b[1;34m(self, X, reset)\u001b[0m\n\u001b[0;32m    398\u001b[0m \u001b[1;33m\u001b[0m\u001b[0m\n\u001b[0;32m    399\u001b[0m         \u001b[1;32mif\u001b[0m \u001b[0mn_features\u001b[0m \u001b[1;33m!=\u001b[0m \u001b[0mself\u001b[0m\u001b[1;33m.\u001b[0m\u001b[0mn_features_in_\u001b[0m\u001b[1;33m:\u001b[0m\u001b[1;33m\u001b[0m\u001b[1;33m\u001b[0m\u001b[0m\n\u001b[1;32m--> 400\u001b[1;33m             raise ValueError(\n\u001b[0m\u001b[0;32m    401\u001b[0m                 \u001b[1;34mf\"X has {n_features} features, but {self.__class__.__name__} \"\u001b[0m\u001b[1;33m\u001b[0m\u001b[1;33m\u001b[0m\u001b[0m\n\u001b[0;32m    402\u001b[0m                 \u001b[1;34mf\"is expecting {self.n_features_in_} features as input.\"\u001b[0m\u001b[1;33m\u001b[0m\u001b[1;33m\u001b[0m\u001b[0m\n",
      "\u001b[1;31mValueError\u001b[0m: X has 1 features, but MultinomialNB is expecting 7619 features as input."
     ]
    }
   ],
   "source": [
    "nb.predict(X_test_vect)"
   ]
  },
  {
   "cell_type": "code",
   "execution_count": null,
   "id": "585d9f1d",
   "metadata": {},
   "outputs": [],
   "source": []
  }
 ],
 "metadata": {
  "kernelspec": {
   "display_name": "Python 3 (ipykernel)",
   "language": "python",
   "name": "python3"
  },
  "language_info": {
   "codemirror_mode": {
    "name": "ipython",
    "version": 3
   },
   "file_extension": ".py",
   "mimetype": "text/x-python",
   "name": "python",
   "nbconvert_exporter": "python",
   "pygments_lexer": "ipython3",
   "version": "3.8.5"
  }
 },
 "nbformat": 4,
 "nbformat_minor": 5
}
