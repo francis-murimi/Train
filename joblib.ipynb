{
 "cells": [
  {
   "cell_type": "code",
   "execution_count": 1,
   "id": "56814324",
   "metadata": {},
   "outputs": [],
   "source": [
    "import numpy as np\n",
    "import pandas as pd"
   ]
  },
  {
   "cell_type": "code",
   "execution_count": 2,
   "id": "aea2fd02",
   "metadata": {},
   "outputs": [],
   "source": [
    "# Prevent future/deprecation warnings from showing in output\n",
    "import warnings\n",
    "warnings.filterwarnings(action='ignore')"
   ]
  },
  {
   "cell_type": "code",
   "execution_count": 3,
   "id": "9de93749",
   "metadata": {},
   "outputs": [],
   "source": [
    "testingd = pd.read_csv('testing.csv')"
   ]
  },
  {
   "cell_type": "code",
   "execution_count": 4,
   "id": "87e7dbe5",
   "metadata": {},
   "outputs": [
    {
     "data": {
      "text/html": [
       "<div>\n",
       "<style scoped>\n",
       "    .dataframe tbody tr th:only-of-type {\n",
       "        vertical-align: middle;\n",
       "    }\n",
       "\n",
       "    .dataframe tbody tr th {\n",
       "        vertical-align: top;\n",
       "    }\n",
       "\n",
       "    .dataframe thead th {\n",
       "        text-align: right;\n",
       "    }\n",
       "</style>\n",
       "<table border=\"1\" class=\"dataframe\">\n",
       "  <thead>\n",
       "    <tr style=\"text-align: right;\">\n",
       "      <th></th>\n",
       "      <th>Unnamed: 0</th>\n",
       "      <th>text</th>\n",
       "      <th>title</th>\n",
       "    </tr>\n",
       "  </thead>\n",
       "  <tbody>\n",
       "    <tr>\n",
       "      <th>0</th>\n",
       "      <td>0</td>\n",
       "      <td>ndubi moturi “ mimi ni johnson sakaja , togeth...</td>\n",
       "      <td>NaN</td>\n",
       "    </tr>\n",
       "    <tr>\n",
       "      <th>1</th>\n",
       "      <td>1</td>\n",
       "      <td>ndubi moturi “ mimi ni johnson sakaja , togeth...</td>\n",
       "      <td>NaN</td>\n",
       "    </tr>\n",
       "    <tr>\n",
       "      <th>2</th>\n",
       "      <td>2</td>\n",
       "      <td>ndubi moturi “ mimi ni johnson sakaja , togeth...</td>\n",
       "      <td>NaN</td>\n",
       "    </tr>\n",
       "  </tbody>\n",
       "</table>\n",
       "</div>"
      ],
      "text/plain": [
       "   Unnamed: 0                                               text  title\n",
       "0           0  ndubi moturi “ mimi ni johnson sakaja , togeth...    NaN\n",
       "1           1  ndubi moturi “ mimi ni johnson sakaja , togeth...    NaN\n",
       "2           2  ndubi moturi “ mimi ni johnson sakaja , togeth...    NaN"
      ]
     },
     "execution_count": 4,
     "metadata": {},
     "output_type": "execute_result"
    }
   ],
   "source": [
    "testingd"
   ]
  },
  {
   "cell_type": "code",
   "execution_count": 5,
   "id": "fd10a655",
   "metadata": {},
   "outputs": [],
   "source": [
    "from sklearn.model_selection import train_test_split"
   ]
  },
  {
   "cell_type": "code",
   "execution_count": 6,
   "id": "b6917ca4",
   "metadata": {},
   "outputs": [],
   "source": [
    "A = testingd.text\n",
    "b = testingd.title\n",
    "A_train, A_test, b_train, b_test = train_test_split(A, b, test_size=0.30)"
   ]
  },
  {
   "cell_type": "code",
   "execution_count": 7,
   "id": "c3198645",
   "metadata": {},
   "outputs": [],
   "source": [
    "from sklearn.feature_extraction.text import CountVectorizer"
   ]
  },
  {
   "cell_type": "code",
   "execution_count": 8,
   "id": "2854e028",
   "metadata": {},
   "outputs": [],
   "source": [
    "vect = CountVectorizer(binary=True,max_features=2000)"
   ]
  },
  {
   "cell_type": "code",
   "execution_count": 10,
   "id": "3cba1466",
   "metadata": {},
   "outputs": [],
   "source": [
    "A_test_vect = vect.fit_transform(A_test)"
   ]
  },
  {
   "cell_type": "code",
   "execution_count": 12,
   "id": "cbc70a92",
   "metadata": {},
   "outputs": [],
   "source": [
    "import joblib"
   ]
  },
  {
   "cell_type": "code",
   "execution_count": 15,
   "id": "e04afd0f",
   "metadata": {},
   "outputs": [],
   "source": [
    "nb = joblib.load('final.sav')"
   ]
  },
  {
   "cell_type": "code",
   "execution_count": 17,
   "id": "ad48b116",
   "metadata": {},
   "outputs": [
    {
     "data": {
      "text/plain": [
       "<1x277 sparse matrix of type '<class 'numpy.int64'>'\n",
       "\twith 277 stored elements in Compressed Sparse Row format>"
      ]
     },
     "execution_count": 17,
     "metadata": {},
     "output_type": "execute_result"
    }
   ],
   "source": [
    "A_test_vect"
   ]
  },
  {
   "cell_type": "code",
   "execution_count": 18,
   "id": "c2f10094",
   "metadata": {},
   "outputs": [
    {
     "name": "stdout",
     "output_type": "stream",
     "text": [
      "  (0, 161)\t1\n",
      "  (0, 151)\t1\n",
      "  (0, 146)\t1\n",
      "  (0, 164)\t1\n",
      "  (0, 111)\t1\n",
      "  (0, 214)\t1\n",
      "  (0, 246)\t1\n",
      "  (0, 121)\t1\n",
      "  (0, 119)\t1\n",
      "  (0, 251)\t1\n",
      "  (0, 122)\t1\n",
      "  (0, 113)\t1\n",
      "  (0, 185)\t1\n",
      "  (0, 132)\t1\n",
      "  (0, 40)\t1\n",
      "  (0, 51)\t1\n",
      "  (0, 46)\t1\n",
      "  (0, 124)\t1\n",
      "  (0, 165)\t1\n",
      "  (0, 36)\t1\n",
      "  (0, 145)\t1\n",
      "  (0, 263)\t1\n",
      "  (0, 261)\t1\n",
      "  (0, 202)\t1\n",
      "  (0, 55)\t1\n",
      "  :\t:\n",
      "  (0, 120)\t1\n",
      "  (0, 271)\t1\n",
      "  (0, 105)\t1\n",
      "  (0, 88)\t1\n",
      "  (0, 176)\t1\n",
      "  (0, 249)\t1\n",
      "  (0, 209)\t1\n",
      "  (0, 95)\t1\n",
      "  (0, 205)\t1\n",
      "  (0, 110)\t1\n",
      "  (0, 139)\t1\n",
      "  (0, 236)\t1\n",
      "  (0, 67)\t1\n",
      "  (0, 116)\t1\n",
      "  (0, 49)\t1\n",
      "  (0, 26)\t1\n",
      "  (0, 184)\t1\n",
      "  (0, 65)\t1\n",
      "  (0, 203)\t1\n",
      "  (0, 178)\t1\n",
      "  (0, 250)\t1\n",
      "  (0, 159)\t1\n",
      "  (0, 92)\t1\n",
      "  (0, 3)\t1\n",
      "  (0, 268)\t1\n"
     ]
    }
   ],
   "source": [
    "print(A_test_vect)"
   ]
  },
  {
   "cell_type": "code",
   "execution_count": null,
   "id": "d02982ba",
   "metadata": {},
   "outputs": [],
   "source": []
  }
 ],
 "metadata": {
  "kernelspec": {
   "display_name": "Python 3 (ipykernel)",
   "language": "python",
   "name": "python3"
  },
  "language_info": {
   "codemirror_mode": {
    "name": "ipython",
    "version": 3
   },
   "file_extension": ".py",
   "mimetype": "text/x-python",
   "name": "python",
   "nbconvert_exporter": "python",
   "pygments_lexer": "ipython3",
   "version": "3.8.5"
  }
 },
 "nbformat": 4,
 "nbformat_minor": 5
}
