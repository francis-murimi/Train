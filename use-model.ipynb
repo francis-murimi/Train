{
 "cells": [
  {
   "cell_type": "code",
   "execution_count": 1,
   "id": "67be72b8",
   "metadata": {},
   "outputs": [],
   "source": [
    "import math\n",
    "import random\n",
    "from collections import defaultdict\n",
    "from pprint import pprint"
   ]
  },
  {
   "cell_type": "code",
   "execution_count": 2,
   "id": "9d1defaf",
   "metadata": {},
   "outputs": [],
   "source": [
    "# Prevent future/deprecation warnings from showing in output\n",
    "import warnings\n",
    "warnings.filterwarnings(action='ignore')"
   ]
  },
  {
   "cell_type": "code",
   "execution_count": 3,
   "id": "407e0a01",
   "metadata": {},
   "outputs": [],
   "source": [
    "import seaborn as sns\n",
    "import matplotlib.pyplot as plt\n",
    "import numpy as np\n",
    "import pandas as pd\n",
    "import string\n",
    "import nltk"
   ]
  },
  {
   "cell_type": "code",
   "execution_count": 4,
   "id": "fd8a8f54",
   "metadata": {},
   "outputs": [],
   "source": [
    "from sklearn import *"
   ]
  },
  {
   "cell_type": "code",
   "execution_count": 5,
   "id": "c5169478",
   "metadata": {},
   "outputs": [],
   "source": [
    "sns.set_style(style='white')\n",
    "sns.set_context(context='notebook', font_scale=1.3, rc={'figure.figsize': (16,9)})"
   ]
  },
  {
   "cell_type": "code",
   "execution_count": 6,
   "id": "5f12fcec",
   "metadata": {},
   "outputs": [],
   "source": [
    "with open('sakaja.txt') as f:\n",
    "    contents = f.read()\n",
    "    f.close()"
   ]
  },
  {
   "cell_type": "code",
   "execution_count": 7,
   "id": "822d0dc1",
   "metadata": {},
   "outputs": [],
   "source": [
    "#define special characters list\n",
    "special_characters = ['!','#','$','%', '&','@','[',']',']','_','\\n']\n",
    "\n",
    "# lambda and join function\n",
    "contents = ''.join(filter(lambda i:i not in special_characters, contents))\n",
    "    "
   ]
  },
  {
   "cell_type": "code",
   "execution_count": 8,
   "id": "575fea20",
   "metadata": {},
   "outputs": [],
   "source": [
    "from nltk.tokenize import word_tokenize\n"
   ]
  },
  {
   "cell_type": "code",
   "execution_count": 9,
   "id": "371587ab",
   "metadata": {},
   "outputs": [],
   "source": [
    "data = word_tokenize(contents.lower())"
   ]
  },
  {
   "cell_type": "code",
   "execution_count": 10,
   "id": "50a8570d",
   "metadata": {},
   "outputs": [],
   "source": [
    "from nltk.corpus import stopwords"
   ]
  },
  {
   "cell_type": "code",
   "execution_count": 11,
   "id": "8a8429e1",
   "metadata": {},
   "outputs": [],
   "source": [
    "english_stopwords = stopwords.words('english')\n",
    "t_data = [t for t in data if t not in english_stopwords]"
   ]
  },
  {
   "cell_type": "code",
   "execution_count": 12,
   "id": "8fac09dc",
   "metadata": {},
   "outputs": [],
   "source": [
    "from nltk import PorterStemmer"
   ]
  },
  {
   "cell_type": "code",
   "execution_count": 13,
   "id": "d96e00a8",
   "metadata": {},
   "outputs": [],
   "source": [
    "ps = PorterStemmer()\n",
    "token_data = [ps.stem(i) for i in t_data]"
   ]
  },
  {
   "cell_type": "code",
   "execution_count": 14,
   "id": "fc89f3fc",
   "metadata": {},
   "outputs": [],
   "source": [
    "token_text = ' '.join([str(item) for item in token_data])"
   ]
  },
  {
   "cell_type": "code",
   "execution_count": 15,
   "id": "90533e4c",
   "metadata": {},
   "outputs": [
    {
     "data": {
      "text/plain": [
       "\"ndubi moturi “ mimi ni johnson sakaja , togeth sakaja . kuna kitu tunataka kutaja . keep plug like charger . corona come larger nic , cba merger…. ” viral video releas covid-19 pandem , nairobi senat johnson sakaja excit social media creativ rap video featur two sons.although appear gotten lyric right , ’ one thing 37-year-old '' 'super-sen '' quit master ; watch mouth.hi recent struggl fight disqualif nairobi gubernatori race cast shadow man alway eat words.not even ‘ manag degre ’ team univers uganda would help learn care manag utter public . month releas rap hit , sakaja arrest break rule encourag peopl break.but sakaja one bow easili , vehement deni claim arrest ladi loung kilimani violat govern direct covid19. “ never arrest . ’ . show ob number , ” tweet hour later.aft pressur mount , mr sakaja would step chair senat ad hoc committe covid-19 pandem apologis mislead kenyans.in speech , would acknowledg inde broken rule expect guard. “ charact . outsid nine , would one thing . take respons flout covid-19 rule . outsid home past 9pm . regrett us make mistak , ” said time.h current center controversi emerg complet actuari scienc degre univers nairobi claim earlier . inconsist relat studi expos court public opinion.in previou utter , mr sakaja romantic top student right high school univers nairobi studi actuari scienc degree. “ form 2 , decid work hard . would wake 4am go read class . time henceforth record remain except . fact go lenana school , nobodi beaten physic english record , ” told daniel ndambuki aka churchil interview last year.hi life nairobi chiromo campu also rosi , accord , thank student leadership posit rich polit networks. “ salon , kinyozi employ lot peopl campu . sometim also use wash peopl ’ cloth . busi , would rais 6,000 per day . time fourth year bought merced benz senat mose wetangula cost 500,000 shill . also apart yaya use stay move chiromo , ” said interview.in anoth interview musician nyashinski septemb 2020 , also narrat educ journey say never studi kenya. “ never gotten countri . pursu educ kenya , primari , high school univers , ” said.it therefor beat logic enrol degre manag team univers uganda complet one year.aft claim complet actuari scienc univers nairobi emerg , deni alleg term “ polit ” . “ hear peopl say born , ” said.on whether surviv ongo onslaught , remain unclear.but one thing senat taught sometim eat word bitter.w come you.w alway look way improv stori . let us know like improv on.th woman ’ husband , mr geofrey otieno , travel nairobi work robberi happened.th remark appear irk senat malala told support dr khalwal show confused.if ad-block pleas disabl reload page tri later.n media group © 2022welcom\""
      ]
     },
     "execution_count": 15,
     "metadata": {},
     "output_type": "execute_result"
    }
   ],
   "source": [
    "token_text"
   ]
  },
  {
   "cell_type": "code",
   "execution_count": 16,
   "id": "420d8ab6",
   "metadata": {},
   "outputs": [],
   "source": [
    "from sklearn.feature_extraction.text import CountVectorizer"
   ]
  },
  {
   "cell_type": "code",
   "execution_count": null,
   "id": "f5e41fa3",
   "metadata": {},
   "outputs": [],
   "source": [
    "corpus = [\n",
    "    'This is the first document.',\n",
    "    'This document is the second document.',\n",
    "    'And this is the third one.',\n",
    "    'Is this the first document?',\n",
    "]\n",
    "vectorizer = CountVectorizer()\n",
    "X = vectorizer.fit_transform(corpus)\n",
    "vectorizer.get_feature_names_out()\n",
    "\n",
    "\n",
    "print(X.toarray())"
   ]
  },
  {
   "cell_type": "code",
   "execution_count": 17,
   "id": "5afcf8c8",
   "metadata": {},
   "outputs": [],
   "source": [
    "corpus = [token_text]\n",
    "vect = CountVectorizer(max_features=2000)\n",
    "X = vect.fit_transform(corpus)"
   ]
  },
  {
   "cell_type": "code",
   "execution_count": 18,
   "id": "e706d45f",
   "metadata": {},
   "outputs": [
    {
     "name": "stdout",
     "output_type": "stream",
     "text": [
      "[[2 3 1 1 1 1 1 1 1 1 3 2 2 1 1 4 1 2 1 1 1 2 3 1 1 1 1 1 1 1 1 2 1 1 2 2\n",
      "  1 1 1 1 1 1 1 2 1 3 1 1 2 1 3 1 1 1 1 1 1 3 1 1 1 1 1 1 3 1 2 1 1 1 1 1\n",
      "  1 2 2 2 1 1 1 1 1 1 1 1 1 1 1 1 1 1 1 1 2 2 1 1 1 1 1 1 1 1 1 2 2 1 1 1\n",
      "  1 1 1 2 3 1 1 3 1 1 2 1 1 2 1 1 1 1 1 1 1 1 1 1 1 2 1 1 1 1 1 2 1 1 1 1\n",
      "  1 1 1 1 3 1 2 1 1 1 1 1 1 1 1 1 1 1 3 1 7 1 1 1 1 3 1 1 1 1 1 1 1 1 1 2\n",
      "  5 1 1 1 1 2 1 2 1 4 1 1 1 1 2 1 1 1 1 2 1 1 1 1 2 1 1 2 1 1 2 1 2 1 1 1\n",
      "  2 1 1 1 3 4 7 1 2 3 3 1 5 1 1 1 2 1 2 1 1 1 1 1 1 2 3 1 1 1 1 1 2 1 2 1\n",
      "  1 3 3 1 2 1 1 1 1 1 1 2 1 6 2 2 2 1 2 1 1 1 1 1 1 1 1 1 1 1 2 6 1 4 1]]\n"
     ]
    }
   ],
   "source": [
    "print(X.toarray())"
   ]
  },
  {
   "cell_type": "code",
   "execution_count": 19,
   "id": "032692f3",
   "metadata": {},
   "outputs": [],
   "source": [
    "import pickle"
   ]
  },
  {
   "cell_type": "code",
   "execution_count": 20,
   "id": "9b3da61a",
   "metadata": {},
   "outputs": [],
   "source": [
    "f = open('my_classifier.pickle', 'rb')\n",
    "\n",
    "nb = pickle.load(f)\n",
    "\n",
    "f.close()"
   ]
  },
  {
   "cell_type": "code",
   "execution_count": 21,
   "id": "08ab7855",
   "metadata": {},
   "outputs": [
    {
     "data": {
      "text/plain": [
       "array([84., 84.])"
      ]
     },
     "execution_count": 21,
     "metadata": {},
     "output_type": "execute_result"
    }
   ],
   "source": [
    "nb.class_count_"
   ]
  },
  {
   "cell_type": "code",
   "execution_count": 22,
   "id": "bda3a922",
   "metadata": {},
   "outputs": [
    {
     "data": {
      "text/plain": [
       "array([[1., 2., 1., ..., 1., 0., 0.],\n",
       "       [0., 2., 0., ..., 0., 1., 1.]])"
      ]
     },
     "execution_count": 22,
     "metadata": {},
     "output_type": "execute_result"
    }
   ],
   "source": [
    "nb.feature_count_"
   ]
  },
  {
   "cell_type": "code",
   "execution_count": 23,
   "id": "be5823c6",
   "metadata": {},
   "outputs": [
    {
     "data": {
      "text/plain": [
       "array([-0.69314718, -0.69314718])"
      ]
     },
     "execution_count": 23,
     "metadata": {},
     "output_type": "execute_result"
    }
   ],
   "source": [
    "nb.class_log_prior_"
   ]
  },
  {
   "cell_type": "code",
   "execution_count": 24,
   "id": "de3255a0",
   "metadata": {},
   "outputs": [
    {
     "data": {
      "text/plain": [
       "array([0, 1], dtype=int64)"
      ]
     },
     "execution_count": 24,
     "metadata": {},
     "output_type": "execute_result"
    }
   ],
   "source": [
    "nb.classes_"
   ]
  },
  {
   "cell_type": "code",
   "execution_count": 25,
   "id": "b08cd1b7",
   "metadata": {},
   "outputs": [
    {
     "data": {
      "text/plain": [
       "7619"
      ]
     },
     "execution_count": 25,
     "metadata": {},
     "output_type": "execute_result"
    }
   ],
   "source": [
    "nb.n_features_in_"
   ]
  },
  {
   "cell_type": "code",
   "execution_count": 26,
   "id": "0101b4c7",
   "metadata": {},
   "outputs": [
    {
     "data": {
      "text/plain": [
       "{'alpha': 1.0, 'class_prior': None, 'fit_prior': True}"
      ]
     },
     "execution_count": 26,
     "metadata": {},
     "output_type": "execute_result"
    }
   ],
   "source": [
    "nb.get_params(deep=True)"
   ]
  },
  {
   "cell_type": "code",
   "execution_count": 27,
   "id": "1238ff56",
   "metadata": {},
   "outputs": [
    {
     "data": {
      "text/plain": [
       "array([-0.69314718, -0.69314718])"
      ]
     },
     "execution_count": 27,
     "metadata": {},
     "output_type": "execute_result"
    }
   ],
   "source": [
    "nb.class_log_prior_"
   ]
  },
  {
   "cell_type": "code",
   "execution_count": 29,
   "id": "4fb010e1",
   "metadata": {},
   "outputs": [
    {
     "ename": "TypeError",
     "evalue": "'MultinomialNB' object is not callable",
     "output_type": "error",
     "traceback": [
      "\u001b[1;31m---------------------------------------------------------------------------\u001b[0m",
      "\u001b[1;31mTypeError\u001b[0m                                 Traceback (most recent call last)",
      "\u001b[1;32m~\\AppData\\Local\\Temp/ipykernel_20940/577990859.py\u001b[0m in \u001b[0;36m<module>\u001b[1;34m\u001b[0m\n\u001b[1;32m----> 1\u001b[1;33m \u001b[0mnb\u001b[0m\u001b[1;33m(\u001b[0m\u001b[0mX\u001b[0m\u001b[1;33m)\u001b[0m\u001b[1;33m\u001b[0m\u001b[1;33m\u001b[0m\u001b[0m\n\u001b[0m",
      "\u001b[1;31mTypeError\u001b[0m: 'MultinomialNB' object is not callable"
     ]
    }
   ],
   "source": [
    "nb(X)"
   ]
  },
  {
   "cell_type": "code",
   "execution_count": 38,
   "id": "3ebf5d49",
   "metadata": {},
   "outputs": [
    {
     "name": "stdout",
     "output_type": "stream",
     "text": [
      "  (0, 167)\t1\n",
      "  (0, 158)\t1\n",
      "  (0, 153)\t1\n",
      "  (0, 170)\t1\n",
      "  (0, 118)\t2\n",
      "  (0, 222)\t7\n",
      "  (0, 255)\t1\n",
      "  (0, 128)\t1\n",
      "  (0, 126)\t1\n",
      "  (0, 260)\t1\n",
      "  (0, 129)\t1\n",
      "  (0, 120)\t1\n",
      "  (0, 193)\t1\n",
      "  (0, 139)\t2\n",
      "  (0, 42)\t1\n",
      "  (0, 53)\t1\n",
      "  (0, 48)\t2\n",
      "  (0, 131)\t1\n",
      "  (0, 171)\t1\n",
      "  (0, 38)\t1\n",
      "  (0, 152)\t1\n",
      "  (0, 272)\t1\n",
      "  (0, 270)\t2\n",
      "  (0, 210)\t2\n",
      "  (0, 57)\t3\n",
      "  :\t:\n",
      "  (0, 127)\t1\n",
      "  (0, 250)\t2\n",
      "  (0, 279)\t1\n",
      "  (0, 109)\t1\n",
      "  (0, 91)\t1\n",
      "  (0, 184)\t1\n",
      "  (0, 258)\t1\n",
      "  (0, 217)\t1\n",
      "  (0, 98)\t1\n",
      "  (0, 213)\t1\n",
      "  (0, 116)\t1\n",
      "  (0, 146)\t1\n",
      "  (0, 244)\t1\n",
      "  (0, 70)\t1\n",
      "  (0, 123)\t1\n",
      "  (0, 51)\t1\n",
      "  (0, 110)\t1\n",
      "  (0, 27)\t1\n",
      "  (0, 192)\t1\n",
      "  (0, 68)\t1\n",
      "  (0, 211)\t1\n",
      "  (0, 186)\t1\n",
      "  (0, 259)\t1\n",
      "  (0, 95)\t1\n",
      "  (0, 3)\t1\n"
     ]
    }
   ],
   "source": [
    "print(X)"
   ]
  },
  {
   "cell_type": "code",
   "execution_count": 31,
   "id": "40447624",
   "metadata": {},
   "outputs": [],
   "source": [
    "Z = X.reshape(-1,1)"
   ]
  },
  {
   "cell_type": "code",
   "execution_count": 33,
   "id": "5eff77f7",
   "metadata": {},
   "outputs": [
    {
     "ename": "ValueError",
     "evalue": "X has 287 features, but MultinomialNB is expecting 7619 features as input.",
     "output_type": "error",
     "traceback": [
      "\u001b[1;31m---------------------------------------------------------------------------\u001b[0m",
      "\u001b[1;31mValueError\u001b[0m                                Traceback (most recent call last)",
      "\u001b[1;32m~\\AppData\\Local\\Temp/ipykernel_20940/3567211372.py\u001b[0m in \u001b[0;36m<module>\u001b[1;34m\u001b[0m\n\u001b[1;32m----> 1\u001b[1;33m \u001b[0mnb\u001b[0m\u001b[1;33m.\u001b[0m\u001b[0mpredict\u001b[0m\u001b[1;33m(\u001b[0m\u001b[0mX\u001b[0m\u001b[1;33m)\u001b[0m\u001b[1;33m\u001b[0m\u001b[1;33m\u001b[0m\u001b[0m\n\u001b[0m",
      "\u001b[1;32mc:\\users\\murimi\\appdata\\local\\programs\\python\\python38-32\\lib\\site-packages\\sklearn\\naive_bayes.py\u001b[0m in \u001b[0;36mpredict\u001b[1;34m(self, X)\u001b[0m\n\u001b[0;32m     78\u001b[0m         \"\"\"\n\u001b[0;32m     79\u001b[0m         \u001b[0mcheck_is_fitted\u001b[0m\u001b[1;33m(\u001b[0m\u001b[0mself\u001b[0m\u001b[1;33m)\u001b[0m\u001b[1;33m\u001b[0m\u001b[1;33m\u001b[0m\u001b[0m\n\u001b[1;32m---> 80\u001b[1;33m         \u001b[0mX\u001b[0m \u001b[1;33m=\u001b[0m \u001b[0mself\u001b[0m\u001b[1;33m.\u001b[0m\u001b[0m_check_X\u001b[0m\u001b[1;33m(\u001b[0m\u001b[0mX\u001b[0m\u001b[1;33m)\u001b[0m\u001b[1;33m\u001b[0m\u001b[1;33m\u001b[0m\u001b[0m\n\u001b[0m\u001b[0;32m     81\u001b[0m         \u001b[0mjll\u001b[0m \u001b[1;33m=\u001b[0m \u001b[0mself\u001b[0m\u001b[1;33m.\u001b[0m\u001b[0m_joint_log_likelihood\u001b[0m\u001b[1;33m(\u001b[0m\u001b[0mX\u001b[0m\u001b[1;33m)\u001b[0m\u001b[1;33m\u001b[0m\u001b[1;33m\u001b[0m\u001b[0m\n\u001b[0;32m     82\u001b[0m         \u001b[1;32mreturn\u001b[0m \u001b[0mself\u001b[0m\u001b[1;33m.\u001b[0m\u001b[0mclasses_\u001b[0m\u001b[1;33m[\u001b[0m\u001b[0mnp\u001b[0m\u001b[1;33m.\u001b[0m\u001b[0margmax\u001b[0m\u001b[1;33m(\u001b[0m\u001b[0mjll\u001b[0m\u001b[1;33m,\u001b[0m \u001b[0maxis\u001b[0m\u001b[1;33m=\u001b[0m\u001b[1;36m1\u001b[0m\u001b[1;33m)\u001b[0m\u001b[1;33m]\u001b[0m\u001b[1;33m\u001b[0m\u001b[1;33m\u001b[0m\u001b[0m\n",
      "\u001b[1;32mc:\\users\\murimi\\appdata\\local\\programs\\python\\python38-32\\lib\\site-packages\\sklearn\\naive_bayes.py\u001b[0m in \u001b[0;36m_check_X\u001b[1;34m(self, X)\u001b[0m\n\u001b[0;32m    547\u001b[0m     \u001b[1;32mdef\u001b[0m \u001b[0m_check_X\u001b[0m\u001b[1;33m(\u001b[0m\u001b[0mself\u001b[0m\u001b[1;33m,\u001b[0m \u001b[0mX\u001b[0m\u001b[1;33m)\u001b[0m\u001b[1;33m:\u001b[0m\u001b[1;33m\u001b[0m\u001b[1;33m\u001b[0m\u001b[0m\n\u001b[0;32m    548\u001b[0m         \u001b[1;34m\"\"\"Validate X, used only in predict* methods.\"\"\"\u001b[0m\u001b[1;33m\u001b[0m\u001b[1;33m\u001b[0m\u001b[0m\n\u001b[1;32m--> 549\u001b[1;33m         \u001b[1;32mreturn\u001b[0m \u001b[0mself\u001b[0m\u001b[1;33m.\u001b[0m\u001b[0m_validate_data\u001b[0m\u001b[1;33m(\u001b[0m\u001b[0mX\u001b[0m\u001b[1;33m,\u001b[0m \u001b[0maccept_sparse\u001b[0m\u001b[1;33m=\u001b[0m\u001b[1;34m\"csr\"\u001b[0m\u001b[1;33m,\u001b[0m \u001b[0mreset\u001b[0m\u001b[1;33m=\u001b[0m\u001b[1;32mFalse\u001b[0m\u001b[1;33m)\u001b[0m\u001b[1;33m\u001b[0m\u001b[1;33m\u001b[0m\u001b[0m\n\u001b[0m\u001b[0;32m    550\u001b[0m \u001b[1;33m\u001b[0m\u001b[0m\n\u001b[0;32m    551\u001b[0m     \u001b[1;32mdef\u001b[0m \u001b[0m_check_X_y\u001b[0m\u001b[1;33m(\u001b[0m\u001b[0mself\u001b[0m\u001b[1;33m,\u001b[0m \u001b[0mX\u001b[0m\u001b[1;33m,\u001b[0m \u001b[0my\u001b[0m\u001b[1;33m,\u001b[0m \u001b[0mreset\u001b[0m\u001b[1;33m=\u001b[0m\u001b[1;32mTrue\u001b[0m\u001b[1;33m)\u001b[0m\u001b[1;33m:\u001b[0m\u001b[1;33m\u001b[0m\u001b[1;33m\u001b[0m\u001b[0m\n",
      "\u001b[1;32mc:\\users\\murimi\\appdata\\local\\programs\\python\\python38-32\\lib\\site-packages\\sklearn\\base.py\u001b[0m in \u001b[0;36m_validate_data\u001b[1;34m(self, X, y, reset, validate_separately, **check_params)\u001b[0m\n\u001b[0;32m    598\u001b[0m \u001b[1;33m\u001b[0m\u001b[0m\n\u001b[0;32m    599\u001b[0m         \u001b[1;32mif\u001b[0m \u001b[1;32mnot\u001b[0m \u001b[0mno_val_X\u001b[0m \u001b[1;32mand\u001b[0m \u001b[0mcheck_params\u001b[0m\u001b[1;33m.\u001b[0m\u001b[0mget\u001b[0m\u001b[1;33m(\u001b[0m\u001b[1;34m\"ensure_2d\"\u001b[0m\u001b[1;33m,\u001b[0m \u001b[1;32mTrue\u001b[0m\u001b[1;33m)\u001b[0m\u001b[1;33m:\u001b[0m\u001b[1;33m\u001b[0m\u001b[1;33m\u001b[0m\u001b[0m\n\u001b[1;32m--> 600\u001b[1;33m             \u001b[0mself\u001b[0m\u001b[1;33m.\u001b[0m\u001b[0m_check_n_features\u001b[0m\u001b[1;33m(\u001b[0m\u001b[0mX\u001b[0m\u001b[1;33m,\u001b[0m \u001b[0mreset\u001b[0m\u001b[1;33m=\u001b[0m\u001b[0mreset\u001b[0m\u001b[1;33m)\u001b[0m\u001b[1;33m\u001b[0m\u001b[1;33m\u001b[0m\u001b[0m\n\u001b[0m\u001b[0;32m    601\u001b[0m \u001b[1;33m\u001b[0m\u001b[0m\n\u001b[0;32m    602\u001b[0m         \u001b[1;32mreturn\u001b[0m \u001b[0mout\u001b[0m\u001b[1;33m\u001b[0m\u001b[1;33m\u001b[0m\u001b[0m\n",
      "\u001b[1;32mc:\\users\\murimi\\appdata\\local\\programs\\python\\python38-32\\lib\\site-packages\\sklearn\\base.py\u001b[0m in \u001b[0;36m_check_n_features\u001b[1;34m(self, X, reset)\u001b[0m\n\u001b[0;32m    398\u001b[0m \u001b[1;33m\u001b[0m\u001b[0m\n\u001b[0;32m    399\u001b[0m         \u001b[1;32mif\u001b[0m \u001b[0mn_features\u001b[0m \u001b[1;33m!=\u001b[0m \u001b[0mself\u001b[0m\u001b[1;33m.\u001b[0m\u001b[0mn_features_in_\u001b[0m\u001b[1;33m:\u001b[0m\u001b[1;33m\u001b[0m\u001b[1;33m\u001b[0m\u001b[0m\n\u001b[1;32m--> 400\u001b[1;33m             raise ValueError(\n\u001b[0m\u001b[0;32m    401\u001b[0m                 \u001b[1;34mf\"X has {n_features} features, but {self.__class__.__name__} \"\u001b[0m\u001b[1;33m\u001b[0m\u001b[1;33m\u001b[0m\u001b[0m\n\u001b[0;32m    402\u001b[0m                 \u001b[1;34mf\"is expecting {self.n_features_in_} features as input.\"\u001b[0m\u001b[1;33m\u001b[0m\u001b[1;33m\u001b[0m\u001b[0m\n",
      "\u001b[1;31mValueError\u001b[0m: X has 287 features, but MultinomialNB is expecting 7619 features as input."
     ]
    }
   ],
   "source": [
    "nb.predict(X)"
   ]
  },
  {
   "cell_type": "code",
   "execution_count": null,
   "id": "75b9e2b5",
   "metadata": {},
   "outputs": [],
   "source": []
  }
 ],
 "metadata": {
  "kernelspec": {
   "display_name": "Python 3 (ipykernel)",
   "language": "python",
   "name": "python3"
  },
  "language_info": {
   "codemirror_mode": {
    "name": "ipython",
    "version": 3
   },
   "file_extension": ".py",
   "mimetype": "text/x-python",
   "name": "python",
   "nbconvert_exporter": "python",
   "pygments_lexer": "ipython3",
   "version": "3.8.5"
  }
 },
 "nbformat": 4,
 "nbformat_minor": 5
}
